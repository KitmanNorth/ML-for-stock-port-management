{
 "cells": [
  {
   "cell_type": "code",
   "execution_count": 10,
   "metadata": {},
   "outputs": [
    {
     "name": "stdout",
     "output_type": "stream",
     "text": [
      "XGBClassifier(base_score=0.5, booster='gbtree', colsample_bylevel=1,\n",
      "       colsample_bynode=1, colsample_bytree=1, gamma=0, learning_rate=0.1,\n",
      "       max_delta_step=0, max_depth=3, min_child_weight=1, missing=nan,\n",
      "       n_estimators=100, n_jobs=1, nthread=None,\n",
      "       objective='multi:softprob', random_state=0, reg_alpha=0,\n",
      "       reg_lambda=1, scale_pos_weight=1, seed=None, silent=None,\n",
      "       subsample=1, verbosity=1)\n",
      "[0.13388741 0.12451157 0.02585352 0.00246869 0.23128317 0.06556281\n",
      " 0.19711435 0.21931846]\n"
     ]
    }
   ],
   "source": [
    "# load model to predict\n",
    "from sklearn.externals import joblib\n",
    "model = joblib.load('xg_model_cv3.pkl')\n",
    "print(model)\n",
    "print(model.feature_importances_)"
   ]
  },
  {
   "cell_type": "code",
   "execution_count": 2,
   "metadata": {},
   "outputs": [],
   "source": [
    "import pandas as pd\n",
    "df = pd.read_csv('../ML-for-stock-port-management/stock_test.csv')\n",
    "# X_test = df[['Money', 'Money5', 'SMA5', 'Last', 'MACD', 'MACD10', 'RSI']]\n",
    "# X_test = df[['Last', 'ChangePercent', 'Money']]\n",
    "X_test = df[['Money', 'Money5', 'SMA5', 'Last', 'MACD', 'MACD10', 'RSI', 'ChangePercent']]\n",
    "# X_test = df[['Money', 'Money5', 'MACD', 'MACD10', 'ChangePercent']]\n",
    "y_test = df['Status']\n",
    "\n",
    "# X_test.columns = ['f0', 'f1', 'f2', 'f3', 'f4', 'f5', 'f6']\n",
    "# X_test.columns = ['f0', 'f1', 'f2']\n",
    "# X_test.columns = ['f0', 'f1', 'f2', 'f3', 'f4', 'f5', 'f6','f7']\n",
    "# X_test.columns = ['f0', 'f1', 'f2', 'f3', 'f4']\n",
    "\n",
    "# print(X_test.shape)\n",
    "# print(y_test.shape)"
   ]
  },
  {
   "cell_type": "code",
   "execution_count": 4,
   "metadata": {},
   "outputs": [
    {
     "data": {
      "text/plain": [
       "Counter({0.0: 33200, 1.0: 1500, -1.0: 1619})"
      ]
     },
     "execution_count": 4,
     "metadata": {},
     "output_type": "execute_result"
    }
   ],
   "source": [
    "y_pred = model.predict(X_test)\n",
    "# y_pred\n",
    "import collections\n",
    "collections.Counter(y_pred)"
   ]
  },
  {
   "cell_type": "code",
   "execution_count": 5,
   "metadata": {},
   "outputs": [
    {
     "name": "stdout",
     "output_type": "stream",
     "text": [
      "Accuracy: 0.9416283487981497\n",
      "Precision: 0.7508228673392354\n",
      "Recall: 0.7637506897582967\n",
      "Confusion Matrix:\n",
      "[[  970   606    19]\n",
      " [  632 32204   456]\n",
      " [   17   390  1025]]\n"
     ]
    }
   ],
   "source": [
    "from sklearn.metrics import accuracy_score, f1_score, precision_score, recall_score, confusion_matrix\n",
    "\n",
    "accuracy = accuracy_score(y_test, y_pred)\n",
    "precision = precision_score(y_test, y_pred, average='macro')\n",
    "recall = recall_score(y_test, y_pred,average='macro')\n",
    "cm = confusion_matrix(y_test, y_pred)\n",
    "print('Accuracy: ' + str(accuracy))\n",
    "print('Precision: ' + str(precision))\n",
    "print('Recall: ' + str(recall))\n",
    "print('Confusion Matrix:')\n",
    "print(cm)"
   ]
  },
  {
   "cell_type": "code",
   "execution_count": null,
   "metadata": {},
   "outputs": [],
   "source": []
  }
 ],
 "metadata": {
  "kernelspec": {
   "display_name": "Python 3",
   "language": "python",
   "name": "python3"
  },
  "language_info": {
   "codemirror_mode": {
    "name": "ipython",
    "version": 3
   },
   "file_extension": ".py",
   "mimetype": "text/x-python",
   "name": "python",
   "nbconvert_exporter": "python",
   "pygments_lexer": "ipython3",
   "version": "3.7.3"
  }
 },
 "nbformat": 4,
 "nbformat_minor": 2
}
