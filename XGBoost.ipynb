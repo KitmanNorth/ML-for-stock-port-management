{
 "cells": [
  {
   "cell_type": "code",
   "execution_count": 1,
   "metadata": {},
   "outputs": [],
   "source": [
    "import pandas as pd"
   ]
  },
  {
   "cell_type": "code",
   "execution_count": 2,
   "metadata": {},
   "outputs": [],
   "source": [
    "df = pd.read_csv('../ML-for-stock-port-management/stock.csv')"
   ]
  },
  {
   "cell_type": "code",
   "execution_count": 3,
   "metadata": {},
   "outputs": [
    {
     "name": "stdout",
     "output_type": "stream",
     "text": [
      "(814147, 5)\n",
      "(814147,)\n"
     ]
    }
   ],
   "source": [
    "# X = df[['Money', 'Money5', 'SMA5', 'Last', 'MACD', 'MACD10', 'RSI']]\n",
    "# X = df[['Last', 'ChangePercent', 'Money']]\n",
    "# X = df[['Money', 'Money5', 'SMA5', 'Last', 'MACD', 'MACD10', 'RSI', 'ChangePercent']]\n",
    "X = df[['Money', 'Money5', 'MACD', 'MACD10', 'ChangePercent']]\n",
    "y = df['Status']\n",
    "\n",
    "print(X.shape)\n",
    "print(y.shape)"
   ]
  },
  {
   "cell_type": "code",
   "execution_count": 4,
   "metadata": {},
   "outputs": [
    {
     "name": "stderr",
     "output_type": "stream",
     "text": [
      "C:\\Users\\59010602\\AppData\\Local\\Continuum\\anaconda3\\lib\\site-packages\\sklearn\\metrics\\classification.py:1143: UndefinedMetricWarning: Precision is ill-defined and being set to 0.0 in labels with no predicted samples.\n",
      "  'precision', 'predicted', average, warn_for)\n"
     ]
    },
    {
     "name": "stdout",
     "output_type": "stream",
     "text": [
      "Accuracy: 0.9021801879260578\n",
      "Precision: 0.5745540542742846\n",
      "Recall: 0.4597958245372354\n",
      "Confusion Matrix:\n",
      "[[    0  3967     2]\n",
      " [    0 71244   487]\n",
      " [    0  3508  2207]]\n",
      "Accuracy: 0.903850641773629\n",
      "Precision: 0.5754349784871642\n",
      "Recall: 0.45547005782385064\n",
      "Confusion Matrix:\n",
      "[[    0  3898     3]\n",
      " [    0 71522   451]\n",
      " [    0  3476  2065]]\n",
      "Accuracy: 0.9090953755450469\n",
      "Precision: 0.5742070903032503\n",
      "Recall: 0.4689381598241639\n",
      "Confusion Matrix:\n",
      "[[    0  3781     5]\n",
      " [    0 71821   509]\n",
      " [    0  3106  2193]]\n",
      "Accuracy: 0.8975127433519622\n",
      "Precision: 0.5700913893001632\n",
      "Recall: 0.4676788007105084\n",
      "Confusion Matrix:\n",
      "[[    0  4420     2]\n",
      " [    0 70721   551]\n",
      " [    0  3371  2350]]\n",
      "Accuracy: 0.9037769452803538\n",
      "Precision: 0.5797543787725156\n",
      "Recall: 0.44485651209859206\n",
      "Confusion Matrix:\n",
      "[[    0  3801     1]\n",
      " [    0 71699   375]\n",
      " [    0  3657  1882]]\n",
      "Accuracy: 0.9102376711908126\n",
      "Precision: 0.573836210426802\n",
      "Recall: 0.4737371098897077\n",
      "Confusion Matrix:\n",
      "[[    0  3860     1]\n",
      " [    0 71914   521]\n",
      " [    0  2926  2193]]\n",
      "Accuracy: 0.8926979057913161\n",
      "Precision: 0.5666304727165787\n",
      "Recall: 0.45826970542287665\n",
      "Confusion Matrix:\n",
      "[[    0  4733     1]\n",
      " [    0 70527   523]\n",
      " [    0  3479  2152]]\n",
      "Accuracy: 0.903480973788292\n",
      "Precision: 0.5750136243970687\n",
      "Recall: 0.4596673457384681\n",
      "Confusion Matrix:\n",
      "[[    0  4011     3]\n",
      " [    0 71437   466]\n",
      " [    0  3378  2119]]\n",
      "Accuracy: 0.9020807232171371\n",
      "Precision: 0.9093273662696365\n",
      "Recall: 0.4580202021175292\n",
      "Confusion Matrix:\n",
      "[[    1  3993     3]\n",
      " [    0 71284   460]\n",
      " [    0  3516  2157]]\n",
      "Accuracy: 0.9087134890805021\n",
      "Precision: 0.5707411269713748\n",
      "Recall: 0.46930612831466756\n",
      "Confusion Matrix:\n",
      "[[    0  3856     1]\n",
      " [    0 71825   539]\n",
      " [    0  3036  2157]]\n"
     ]
    },
    {
     "data": {
      "text/plain": [
       "['xg_model_cv4.pkl']"
      ]
     },
     "execution_count": 4,
     "metadata": {},
     "output_type": "execute_result"
    }
   ],
   "source": [
    "# k-fold cross validation\n",
    "from sklearn.model_selection import KFold\n",
    "import xgboost as xgb\n",
    "from sklearn.metrics import accuracy_score, precision_score, recall_score, confusion_matrix\n",
    "\n",
    "clf = xgb.XGBClassifier()\n",
    "X = X.values\n",
    "y = y.values\n",
    "kf = KFold(n_splits=10)\n",
    "accuracy_list = []\n",
    "precision_list = []\n",
    "recall_list = []\n",
    "cm_list = []\n",
    "\n",
    "for train_index, test_index in kf.split(X):\n",
    "    X_train, X_test = X[train_index], X[test_index]\n",
    "    y_train, y_test = y[train_index], y[test_index]\n",
    "    clf.fit(X_train, y_train)\n",
    "    y_pred = clf.predict(X_test)\n",
    "    accuracy = accuracy_score(y_test, y_pred)\n",
    "    precision = precision_score(y_test, y_pred, average='macro')\n",
    "    recall = recall_score(y_test, y_pred,average='macro')\n",
    "    cm = confusion_matrix(y_test, y_pred)\n",
    "    accuracy_list.append(accuracy)\n",
    "    precision_list.append(precision)\n",
    "    recall_list.append(recall)\n",
    "    cm_list.append(cm)\n",
    "    print('Accuracy: ' + str(accuracy))\n",
    "    print('Precision: ' + str(precision))\n",
    "    print('Recall: ' + str(recall))\n",
    "    print('Confusion Matrix:')\n",
    "    print(cm)\n",
    "\n",
    "# save a model using joblib\n",
    "from sklearn.externals import joblib\n",
    "joblib.dump(clf, 'xg_model_cv4.pkl')"
   ]
  },
  {
   "cell_type": "code",
   "execution_count": 5,
   "metadata": {},
   "outputs": [
    {
     "name": "stdout",
     "output_type": "stream",
     "text": [
      "Accuracy: 0.903362665694511\n",
      "Precision: 0.6069590691918838\n",
      "Recall: 0.46157398464775995\n",
      "Confusion Matrix:\n",
      "[[     1  40320     22]\n",
      " [     0 713994   4882]\n",
      " [     0  33453  21475]]\n"
     ]
    }
   ],
   "source": [
    "print('Accuracy: ' + str(sum(accuracy_list)/10))\n",
    "print('Precision: ' + str(sum(precision_list)/10))\n",
    "print('Recall: ' + str(sum(recall_list)/10))\n",
    "print('Confusion Matrix:')\n",
    "print(str(sum(cm_list)))"
   ]
  },
  {
   "cell_type": "code",
   "execution_count": null,
   "metadata": {},
   "outputs": [],
   "source": []
  }
 ],
 "metadata": {
  "kernelspec": {
   "display_name": "Python 3",
   "language": "python",
   "name": "python3"
  },
  "language_info": {
   "codemirror_mode": {
    "name": "ipython",
    "version": 3
   },
   "file_extension": ".py",
   "mimetype": "text/x-python",
   "name": "python",
   "nbconvert_exporter": "python",
   "pygments_lexer": "ipython3",
   "version": "3.7.3"
  }
 },
 "nbformat": 4,
 "nbformat_minor": 2
}
