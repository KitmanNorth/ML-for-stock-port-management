{
 "cells": [
  {
   "cell_type": "code",
   "execution_count": 1,
   "metadata": {},
   "outputs": [
    {
     "data": {
      "text/html": [
       "<div>\n",
       "<style scoped>\n",
       "    .dataframe tbody tr th:only-of-type {\n",
       "        vertical-align: middle;\n",
       "    }\n",
       "\n",
       "    .dataframe tbody tr th {\n",
       "        vertical-align: top;\n",
       "    }\n",
       "\n",
       "    .dataframe thead th {\n",
       "        text-align: right;\n",
       "    }\n",
       "</style>\n",
       "<table border=\"1\" class=\"dataframe\">\n",
       "  <thead>\n",
       "    <tr style=\"text-align: right;\">\n",
       "      <th></th>\n",
       "      <th>Date</th>\n",
       "      <th>Symbol</th>\n",
       "      <th>Open</th>\n",
       "      <th>High</th>\n",
       "      <th>Low</th>\n",
       "      <th>Last</th>\n",
       "      <th>ChangePercent</th>\n",
       "      <th>Volumn</th>\n",
       "      <th>Money</th>\n",
       "      <th>Net5D</th>\n",
       "      <th>...</th>\n",
       "      <th>SMA5</th>\n",
       "      <th>SMA12</th>\n",
       "      <th>SMA26</th>\n",
       "      <th>MACD</th>\n",
       "      <th>MACD5</th>\n",
       "      <th>Vol5</th>\n",
       "      <th>RSI</th>\n",
       "      <th>RSI5</th>\n",
       "      <th>Money5</th>\n",
       "      <th>Status</th>\n",
       "    </tr>\n",
       "  </thead>\n",
       "  <tbody>\n",
       "    <tr>\n",
       "      <th>0</th>\n",
       "      <td>1/5/2015</td>\n",
       "      <td>PTT</td>\n",
       "      <td>330.0</td>\n",
       "      <td>331.0</td>\n",
       "      <td>313.0</td>\n",
       "      <td>315.0</td>\n",
       "      <td>-2.78</td>\n",
       "      <td>6685498</td>\n",
       "      <td>2143630000</td>\n",
       "      <td>5569961000</td>\n",
       "      <td>...</td>\n",
       "      <td>315.0</td>\n",
       "      <td>NaN</td>\n",
       "      <td>NaN</td>\n",
       "      <td>NaN</td>\n",
       "      <td>NaN</td>\n",
       "      <td>6685498.0</td>\n",
       "      <td>NaN</td>\n",
       "      <td>NaN</td>\n",
       "      <td>2.143630e+09</td>\n",
       "      <td>0.0</td>\n",
       "    </tr>\n",
       "    <tr>\n",
       "      <th>1</th>\n",
       "      <td>1/6/2015</td>\n",
       "      <td>PTT</td>\n",
       "      <td>310.0</td>\n",
       "      <td>323.0</td>\n",
       "      <td>306.0</td>\n",
       "      <td>323.0</td>\n",
       "      <td>2.54</td>\n",
       "      <td>8194710</td>\n",
       "      <td>2563561000</td>\n",
       "      <td>7283937000</td>\n",
       "      <td>...</td>\n",
       "      <td>319.0</td>\n",
       "      <td>NaN</td>\n",
       "      <td>NaN</td>\n",
       "      <td>NaN</td>\n",
       "      <td>NaN</td>\n",
       "      <td>7440104.0</td>\n",
       "      <td>NaN</td>\n",
       "      <td>NaN</td>\n",
       "      <td>2.353596e+09</td>\n",
       "      <td>0.0</td>\n",
       "    </tr>\n",
       "    <tr>\n",
       "      <th>2</th>\n",
       "      <td>1/7/2015</td>\n",
       "      <td>PTT</td>\n",
       "      <td>322.0</td>\n",
       "      <td>335.0</td>\n",
       "      <td>319.0</td>\n",
       "      <td>334.0</td>\n",
       "      <td>3.41</td>\n",
       "      <td>6377138</td>\n",
       "      <td>2091634000</td>\n",
       "      <td>8475487000</td>\n",
       "      <td>...</td>\n",
       "      <td>324.0</td>\n",
       "      <td>NaN</td>\n",
       "      <td>NaN</td>\n",
       "      <td>NaN</td>\n",
       "      <td>NaN</td>\n",
       "      <td>7085782.0</td>\n",
       "      <td>NaN</td>\n",
       "      <td>NaN</td>\n",
       "      <td>2.266275e+09</td>\n",
       "      <td>0.0</td>\n",
       "    </tr>\n",
       "    <tr>\n",
       "      <th>3</th>\n",
       "      <td>1/8/2015</td>\n",
       "      <td>PTT</td>\n",
       "      <td>346.0</td>\n",
       "      <td>349.0</td>\n",
       "      <td>340.0</td>\n",
       "      <td>340.0</td>\n",
       "      <td>1.80</td>\n",
       "      <td>10392170</td>\n",
       "      <td>3588631000</td>\n",
       "      <td>11299851000</td>\n",
       "      <td>...</td>\n",
       "      <td>328.0</td>\n",
       "      <td>NaN</td>\n",
       "      <td>NaN</td>\n",
       "      <td>NaN</td>\n",
       "      <td>NaN</td>\n",
       "      <td>7912379.0</td>\n",
       "      <td>NaN</td>\n",
       "      <td>NaN</td>\n",
       "      <td>2.596864e+09</td>\n",
       "      <td>0.0</td>\n",
       "    </tr>\n",
       "    <tr>\n",
       "      <th>4</th>\n",
       "      <td>1/9/2015</td>\n",
       "      <td>PTT</td>\n",
       "      <td>342.0</td>\n",
       "      <td>342.0</td>\n",
       "      <td>335.0</td>\n",
       "      <td>338.0</td>\n",
       "      <td>-0.59</td>\n",
       "      <td>6394847</td>\n",
       "      <td>2166117000</td>\n",
       "      <td>12553573000</td>\n",
       "      <td>...</td>\n",
       "      <td>330.0</td>\n",
       "      <td>NaN</td>\n",
       "      <td>NaN</td>\n",
       "      <td>NaN</td>\n",
       "      <td>NaN</td>\n",
       "      <td>7608872.6</td>\n",
       "      <td>NaN</td>\n",
       "      <td>NaN</td>\n",
       "      <td>2.510715e+09</td>\n",
       "      <td>0.0</td>\n",
       "    </tr>\n",
       "  </tbody>\n",
       "</table>\n",
       "<p>5 rows × 22 columns</p>\n",
       "</div>"
      ],
      "text/plain": [
       "       Date Symbol   Open   High    Low   Last  ChangePercent    Volumn  \\\n",
       "0  1/5/2015    PTT  330.0  331.0  313.0  315.0          -2.78   6685498   \n",
       "1  1/6/2015    PTT  310.0  323.0  306.0  323.0           2.54   8194710   \n",
       "2  1/7/2015    PTT  322.0  335.0  319.0  334.0           3.41   6377138   \n",
       "3  1/8/2015    PTT  346.0  349.0  340.0  340.0           1.80  10392170   \n",
       "4  1/9/2015    PTT  342.0  342.0  335.0  338.0          -0.59   6394847   \n",
       "\n",
       "        Money        Net5D  ...   SMA5  SMA12  SMA26  MACD  MACD5       Vol5  \\\n",
       "0  2143630000   5569961000  ...  315.0    NaN    NaN   NaN    NaN  6685498.0   \n",
       "1  2563561000   7283937000  ...  319.0    NaN    NaN   NaN    NaN  7440104.0   \n",
       "2  2091634000   8475487000  ...  324.0    NaN    NaN   NaN    NaN  7085782.0   \n",
       "3  3588631000  11299851000  ...  328.0    NaN    NaN   NaN    NaN  7912379.0   \n",
       "4  2166117000  12553573000  ...  330.0    NaN    NaN   NaN    NaN  7608872.6   \n",
       "\n",
       "   RSI  RSI5        Money5  Status  \n",
       "0  NaN   NaN  2.143630e+09     0.0  \n",
       "1  NaN   NaN  2.353596e+09     0.0  \n",
       "2  NaN   NaN  2.266275e+09     0.0  \n",
       "3  NaN   NaN  2.596864e+09     0.0  \n",
       "4  NaN   NaN  2.510715e+09     0.0  \n",
       "\n",
       "[5 rows x 22 columns]"
      ]
     },
     "execution_count": 1,
     "metadata": {},
     "output_type": "execute_result"
    }
   ],
   "source": [
    "import pandas as pd\n",
    "df = pd.read_csv('../ML-for-stock-port-management/Individual-Stock/PTT.csv')\n",
    "df.head()"
   ]
  },
  {
   "cell_type": "code",
   "execution_count": 2,
   "metadata": {},
   "outputs": [
    {
     "data": {
      "text/html": [
       "<div>\n",
       "<style scoped>\n",
       "    .dataframe tbody tr th:only-of-type {\n",
       "        vertical-align: middle;\n",
       "    }\n",
       "\n",
       "    .dataframe tbody tr th {\n",
       "        vertical-align: top;\n",
       "    }\n",
       "\n",
       "    .dataframe thead th {\n",
       "        text-align: right;\n",
       "    }\n",
       "</style>\n",
       "<table border=\"1\" class=\"dataframe\">\n",
       "  <thead>\n",
       "    <tr style=\"text-align: right;\">\n",
       "      <th></th>\n",
       "      <th>Money</th>\n",
       "      <th>Money5</th>\n",
       "      <th>RSI</th>\n",
       "      <th>MACD</th>\n",
       "      <th>MACD5</th>\n",
       "    </tr>\n",
       "  </thead>\n",
       "  <tbody>\n",
       "    <tr>\n",
       "      <th>25</th>\n",
       "      <td>1725270000</td>\n",
       "      <td>2.675413e+09</td>\n",
       "      <td>57.142857</td>\n",
       "      <td>15.266382</td>\n",
       "      <td>15.266382</td>\n",
       "    </tr>\n",
       "    <tr>\n",
       "      <th>26</th>\n",
       "      <td>1443384000</td>\n",
       "      <td>2.464452e+09</td>\n",
       "      <td>57.142857</td>\n",
       "      <td>14.146011</td>\n",
       "      <td>14.706197</td>\n",
       "    </tr>\n",
       "    <tr>\n",
       "      <th>27</th>\n",
       "      <td>2975712000</td>\n",
       "      <td>2.332847e+09</td>\n",
       "      <td>50.000000</td>\n",
       "      <td>13.462251</td>\n",
       "      <td>14.291548</td>\n",
       "    </tr>\n",
       "    <tr>\n",
       "      <th>28</th>\n",
       "      <td>2187317000</td>\n",
       "      <td>2.054493e+09</td>\n",
       "      <td>50.000000</td>\n",
       "      <td>13.366097</td>\n",
       "      <td>14.060185</td>\n",
       "    </tr>\n",
       "    <tr>\n",
       "      <th>29</th>\n",
       "      <td>1794806000</td>\n",
       "      <td>2.025298e+09</td>\n",
       "      <td>57.142857</td>\n",
       "      <td>14.541311</td>\n",
       "      <td>14.156410</td>\n",
       "    </tr>\n",
       "  </tbody>\n",
       "</table>\n",
       "</div>"
      ],
      "text/plain": [
       "         Money        Money5        RSI       MACD      MACD5\n",
       "25  1725270000  2.675413e+09  57.142857  15.266382  15.266382\n",
       "26  1443384000  2.464452e+09  57.142857  14.146011  14.706197\n",
       "27  2975712000  2.332847e+09  50.000000  13.462251  14.291548\n",
       "28  2187317000  2.054493e+09  50.000000  13.366097  14.060185\n",
       "29  1794806000  2.025298e+09  57.142857  14.541311  14.156410"
      ]
     },
     "execution_count": 2,
     "metadata": {},
     "output_type": "execute_result"
    }
   ],
   "source": [
    "X = df.loc[25:,['Money', 'Money5', 'RSI', 'MACD', 'MACD5']]\n",
    "X.head()"
   ]
  },
  {
   "cell_type": "code",
   "execution_count": 3,
   "metadata": {},
   "outputs": [
    {
     "data": {
      "text/html": [
       "<div>\n",
       "<style scoped>\n",
       "    .dataframe tbody tr th:only-of-type {\n",
       "        vertical-align: middle;\n",
       "    }\n",
       "\n",
       "    .dataframe tbody tr th {\n",
       "        vertical-align: top;\n",
       "    }\n",
       "\n",
       "    .dataframe thead th {\n",
       "        text-align: right;\n",
       "    }\n",
       "</style>\n",
       "<table border=\"1\" class=\"dataframe\">\n",
       "  <thead>\n",
       "    <tr style=\"text-align: right;\">\n",
       "      <th></th>\n",
       "      <th>Status</th>\n",
       "    </tr>\n",
       "  </thead>\n",
       "  <tbody>\n",
       "    <tr>\n",
       "      <th>25</th>\n",
       "      <td>0.0</td>\n",
       "    </tr>\n",
       "    <tr>\n",
       "      <th>26</th>\n",
       "      <td>0.0</td>\n",
       "    </tr>\n",
       "    <tr>\n",
       "      <th>27</th>\n",
       "      <td>1.0</td>\n",
       "    </tr>\n",
       "    <tr>\n",
       "      <th>28</th>\n",
       "      <td>1.0</td>\n",
       "    </tr>\n",
       "    <tr>\n",
       "      <th>29</th>\n",
       "      <td>0.0</td>\n",
       "    </tr>\n",
       "  </tbody>\n",
       "</table>\n",
       "</div>"
      ],
      "text/plain": [
       "    Status\n",
       "25     0.0\n",
       "26     0.0\n",
       "27     1.0\n",
       "28     1.0\n",
       "29     0.0"
      ]
     },
     "execution_count": 3,
     "metadata": {},
     "output_type": "execute_result"
    }
   ],
   "source": [
    "y = df.loc[25:,['Status']]\n",
    "y.head()"
   ]
  },
  {
   "cell_type": "code",
   "execution_count": 4,
   "metadata": {},
   "outputs": [
    {
     "name": "stdout",
     "output_type": "stream",
     "text": [
      "(751, 5)\n",
      "(323, 5)\n"
     ]
    }
   ],
   "source": [
    "from sklearn.model_selection import train_test_split\n",
    "X_train, X_test, y_train, y_test = train_test_split(X, y, test_size=0.3,\n",
    "                                                    random_state=42)\n",
    "print(X_train.shape)\n",
    "print(X_test.shape)"
   ]
  },
  {
   "cell_type": "markdown",
   "metadata": {},
   "source": [
    "## SIMPLE LR"
   ]
  },
  {
   "cell_type": "code",
   "execution_count": 11,
   "metadata": {},
   "outputs": [
    {
     "name": "stderr",
     "output_type": "stream",
     "text": [
      "C:\\Users\\59010602\\AppData\\Local\\Continuum\\anaconda3\\lib\\site-packages\\sklearn\\linear_model\\logistic.py:433: FutureWarning: Default solver will be changed to 'lbfgs' in 0.22. Specify a solver to silence this warning.\n",
      "  FutureWarning)\n",
      "C:\\Users\\59010602\\AppData\\Local\\Continuum\\anaconda3\\lib\\site-packages\\sklearn\\utils\\validation.py:761: DataConversionWarning: A column-vector y was passed when a 1d array was expected. Please change the shape of y to (n_samples, ), for example using ravel().\n",
      "  y = column_or_1d(y, warn=True)\n",
      "C:\\Users\\59010602\\AppData\\Local\\Continuum\\anaconda3\\lib\\site-packages\\sklearn\\linear_model\\logistic.py:460: FutureWarning: Default multi_class will be changed to 'auto' in 0.22. Specify the multi_class option to silence this warning.\n",
      "  \"this warning.\", FutureWarning)\n"
     ]
    },
    {
     "data": {
      "text/plain": [
       "LogisticRegression(C=0.0001, class_weight=None, dual=False,\n",
       "          fit_intercept=True, intercept_scaling=1, max_iter=100,\n",
       "          multi_class='warn', n_jobs=None, penalty='l2', random_state=None,\n",
       "          solver='warn', tol=0.0001, verbose=0, warm_start=False)"
      ]
     },
     "execution_count": 11,
     "metadata": {},
     "output_type": "execute_result"
    }
   ],
   "source": [
    "#train model\n",
    "from sklearn.linear_model import LogisticRegression\n",
    "import math\n",
    "lr = LogisticRegression(C=math.pow(10,-4))\n",
    "lr.fit(X_train,y_train)"
   ]
  },
  {
   "cell_type": "code",
   "execution_count": 12,
   "metadata": {},
   "outputs": [
    {
     "data": {
      "text/plain": [
       "0.7585139318885449"
      ]
     },
     "execution_count": 12,
     "metadata": {},
     "output_type": "execute_result"
    }
   ],
   "source": [
    "#test model\n",
    "y_pred = lr.predict(X_test)\n",
    "from sklearn.metrics import accuracy_score\n",
    "accuracy_score(y_test, y_pred)"
   ]
  },
  {
   "cell_type": "code",
   "execution_count": 14,
   "metadata": {},
   "outputs": [
    {
     "data": {
      "text/plain": [
       "(323,)"
      ]
     },
     "execution_count": 14,
     "metadata": {},
     "output_type": "execute_result"
    }
   ],
   "source": [
    "y_pred.shape"
   ]
  },
  {
   "cell_type": "markdown",
   "metadata": {},
   "source": [
    "## TRIAL LR"
   ]
  },
  {
   "cell_type": "code",
   "execution_count": 9,
   "metadata": {},
   "outputs": [
    {
     "name": "stdout",
     "output_type": "stream",
     "text": [
      "(751,)\n",
      "[[567   0  22]\n",
      " [ 38   0   2]\n",
      " [101   0  21]]\n"
     ]
    }
   ],
   "source": [
    "import math\n",
    "from sklearn.linear_model import LogisticRegression\n",
    "lr = LogisticRegression(C=math.pow(10,-4))\n",
    "\n",
    "from sklearn.model_selection import cross_val_predict\n",
    "Y_pred_cross = cross_val_predict(lr, X_train, y_train, cv = 10, n_jobs=-1)\n",
    "\n",
    "print(Y_pred_cross.shape)\n",
    "\n",
    "from sklearn.metrics import accuracy_score\n",
    "# acc_ptt = accuracy_score(y_test, Y_pred_cross)\n",
    "\n",
    "from sklearn.metrics import confusion_matrix\n",
    "cm_ptt = confusion_matrix(y_train, Y_pred_cross)\n",
    "\n",
    "# print (acc_ptt)\n",
    "print (cm_ptt)\n",
    "\n",
    "# logreg_c1 = linear_model.LogisticRegression(C=math.pow(10,-4))\n",
    "# Y_pred_cross = cross_val_predict(logreg_c1, X_train, y_train, cv = 10, n_jobs=-1)\n",
    "# test_acc_c1 = accuracy_score(y_train, Y_pred_cross)\n",
    "# cm_c1 = confusion_matrix(y_train, Y_pred_cross)\n",
    "# print (test_acc_c1)\n",
    "# print (cm_c1)"
   ]
  },
  {
   "cell_type": "code",
   "execution_count": null,
   "metadata": {},
   "outputs": [],
   "source": []
  }
 ],
 "metadata": {
  "kernelspec": {
   "display_name": "Python 3",
   "language": "python",
   "name": "python3"
  },
  "language_info": {
   "codemirror_mode": {
    "name": "ipython",
    "version": 3
   },
   "file_extension": ".py",
   "mimetype": "text/x-python",
   "name": "python",
   "nbconvert_exporter": "python",
   "pygments_lexer": "ipython3",
   "version": "3.7.3"
  }
 },
 "nbformat": 4,
 "nbformat_minor": 2
}
