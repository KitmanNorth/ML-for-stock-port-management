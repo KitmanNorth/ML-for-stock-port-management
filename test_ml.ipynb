{
 "cells": [
  {
   "cell_type": "code",
   "execution_count": 1,
   "metadata": {},
   "outputs": [],
   "source": [
    "import numpy as np\n",
    "import pandas as pd\n",
    "import matplotlib.pyplot as plt\n",
    "%matplotlib inline"
   ]
  },
  {
   "cell_type": "code",
   "execution_count": 3,
   "metadata": {},
   "outputs": [],
   "source": [
    "stock_data = pd.read_csv(\"PTT.csv\")"
   ]
  },
  {
   "cell_type": "code",
   "execution_count": 7,
   "metadata": {},
   "outputs": [],
   "source": [
    "# reverse order in rows\n",
    "stock_data = stock_data.sort_index(ascending=False)\n",
    "stock_data.to_csv(r'C:\\Users\\59010602\\Project4D\\PTT.csv', index = None, header=True)\n",
    "stock_data = pd.read_csv(\"PTT.csv\")"
   ]
  },
  {
   "cell_type": "code",
   "execution_count": 8,
   "metadata": {},
   "outputs": [
    {
     "data": {
      "text/html": [
       "<div>\n",
       "<style scoped>\n",
       "    .dataframe tbody tr th:only-of-type {\n",
       "        vertical-align: middle;\n",
       "    }\n",
       "\n",
       "    .dataframe tbody tr th {\n",
       "        vertical-align: top;\n",
       "    }\n",
       "\n",
       "    .dataframe thead th {\n",
       "        text-align: right;\n",
       "    }\n",
       "</style>\n",
       "<table border=\"1\" class=\"dataframe\">\n",
       "  <thead>\n",
       "    <tr style=\"text-align: right;\">\n",
       "      <th></th>\n",
       "      <th>Date</th>\n",
       "      <th>Symbol</th>\n",
       "      <th>Open</th>\n",
       "      <th>High</th>\n",
       "      <th>Low</th>\n",
       "      <th>Last</th>\n",
       "      <th>ChangePercent</th>\n",
       "      <th>Volumn</th>\n",
       "      <th>Money</th>\n",
       "      <th>Net5D</th>\n",
       "      <th>Net13D</th>\n",
       "      <th>Net34D</th>\n",
       "      <th>SMA5</th>\n",
       "      <th>SMA12</th>\n",
       "      <th>SMA26</th>\n",
       "      <th>MACD</th>\n",
       "      <th>MACD5</th>\n",
       "      <th>Vol5</th>\n",
       "      <th>RSI</th>\n",
       "      <th>RSI5</th>\n",
       "    </tr>\n",
       "  </thead>\n",
       "  <tbody>\n",
       "    <tr>\n",
       "      <th>0</th>\n",
       "      <td>8/14/2019</td>\n",
       "      <td>PTT</td>\n",
       "      <td>43.50</td>\n",
       "      <td>44.00</td>\n",
       "      <td>43.0</td>\n",
       "      <td>43.25</td>\n",
       "      <td>0.58</td>\n",
       "      <td>88987125</td>\n",
       "      <td>3885774760</td>\n",
       "      <td>16991975860</td>\n",
       "      <td>3.467048e+10</td>\n",
       "      <td>7.677470e+10</td>\n",
       "      <td>43.95</td>\n",
       "      <td>45.500000</td>\n",
       "      <td>46.798077</td>\n",
       "      <td>-1.381410</td>\n",
       "      <td>-1.075249</td>\n",
       "      <td>77083850.8</td>\n",
       "      <td>7.142857</td>\n",
       "      <td>1.428571</td>\n",
       "    </tr>\n",
       "    <tr>\n",
       "      <th>1</th>\n",
       "      <td>8/13/2019</td>\n",
       "      <td>PTT</td>\n",
       "      <td>44.00</td>\n",
       "      <td>44.25</td>\n",
       "      <td>42.5</td>\n",
       "      <td>43.00</td>\n",
       "      <td>-2.82</td>\n",
       "      <td>101448610</td>\n",
       "      <td>4393666130</td>\n",
       "      <td>16055545200</td>\n",
       "      <td>3.248500e+10</td>\n",
       "      <td>7.788026e+10</td>\n",
       "      <td>44.40</td>\n",
       "      <td>45.875000</td>\n",
       "      <td>46.990385</td>\n",
       "      <td>-1.262108</td>\n",
       "      <td>-0.938782</td>\n",
       "      <td>72251810.2</td>\n",
       "      <td>0.000000</td>\n",
       "      <td>1.428571</td>\n",
       "    </tr>\n",
       "    <tr>\n",
       "      <th>2</th>\n",
       "      <td>8/9/2019</td>\n",
       "      <td>PTT</td>\n",
       "      <td>44.25</td>\n",
       "      <td>44.75</td>\n",
       "      <td>44.0</td>\n",
       "      <td>44.25</td>\n",
       "      <td>0.00</td>\n",
       "      <td>41819380</td>\n",
       "      <td>1855925260</td>\n",
       "      <td>14225487290</td>\n",
       "      <td>2.909885e+10</td>\n",
       "      <td>7.848408e+10</td>\n",
       "      <td>44.95</td>\n",
       "      <td>46.270833</td>\n",
       "      <td>47.192308</td>\n",
       "      <td>-1.014423</td>\n",
       "      <td>-0.813604</td>\n",
       "      <td>63110790.8</td>\n",
       "      <td>0.000000</td>\n",
       "      <td>2.857143</td>\n",
       "    </tr>\n",
       "    <tr>\n",
       "      <th>3</th>\n",
       "      <td>8/8/2019</td>\n",
       "      <td>PTT</td>\n",
       "      <td>45.00</td>\n",
       "      <td>45.25</td>\n",
       "      <td>44.0</td>\n",
       "      <td>44.25</td>\n",
       "      <td>-1.67</td>\n",
       "      <td>89159527</td>\n",
       "      <td>3961249810</td>\n",
       "      <td>17439902480</td>\n",
       "      <td>2.890182e+10</td>\n",
       "      <td>8.125306e+10</td>\n",
       "      <td>45.30</td>\n",
       "      <td>46.562500</td>\n",
       "      <td>47.355769</td>\n",
       "      <td>-0.918981</td>\n",
       "      <td>-0.723611</td>\n",
       "      <td>76687750.8</td>\n",
       "      <td>0.000000</td>\n",
       "      <td>4.285714</td>\n",
       "    </tr>\n",
       "    <tr>\n",
       "      <th>4</th>\n",
       "      <td>8/7/2019</td>\n",
       "      <td>PTT</td>\n",
       "      <td>45.50</td>\n",
       "      <td>45.75</td>\n",
       "      <td>45.0</td>\n",
       "      <td>45.00</td>\n",
       "      <td>-1.10</td>\n",
       "      <td>64004612</td>\n",
       "      <td>2895359900</td>\n",
       "      <td>14735595230</td>\n",
       "      <td>2.649837e+10</td>\n",
       "      <td>7.934528e+10</td>\n",
       "      <td>45.90</td>\n",
       "      <td>46.854167</td>\n",
       "      <td>47.557692</td>\n",
       "      <td>-0.799323</td>\n",
       "      <td>-0.629452</td>\n",
       "      <td>64197068.8</td>\n",
       "      <td>0.000000</td>\n",
       "      <td>5.714286</td>\n",
       "    </tr>\n",
       "  </tbody>\n",
       "</table>\n",
       "</div>"
      ],
      "text/plain": [
       "        Date Symbol   Open   High   Low   Last  ChangePercent     Volumn  \\\n",
       "0  8/14/2019    PTT  43.50  44.00  43.0  43.25           0.58   88987125   \n",
       "1  8/13/2019    PTT  44.00  44.25  42.5  43.00          -2.82  101448610   \n",
       "2   8/9/2019    PTT  44.25  44.75  44.0  44.25           0.00   41819380   \n",
       "3   8/8/2019    PTT  45.00  45.25  44.0  44.25          -1.67   89159527   \n",
       "4   8/7/2019    PTT  45.50  45.75  45.0  45.00          -1.10   64004612   \n",
       "\n",
       "        Money        Net5D        Net13D        Net34D   SMA5      SMA12  \\\n",
       "0  3885774760  16991975860  3.467048e+10  7.677470e+10  43.95  45.500000   \n",
       "1  4393666130  16055545200  3.248500e+10  7.788026e+10  44.40  45.875000   \n",
       "2  1855925260  14225487290  2.909885e+10  7.848408e+10  44.95  46.270833   \n",
       "3  3961249810  17439902480  2.890182e+10  8.125306e+10  45.30  46.562500   \n",
       "4  2895359900  14735595230  2.649837e+10  7.934528e+10  45.90  46.854167   \n",
       "\n",
       "       SMA26      MACD     MACD5        Vol5       RSI      RSI5  \n",
       "0  46.798077 -1.381410 -1.075249  77083850.8  7.142857  1.428571  \n",
       "1  46.990385 -1.262108 -0.938782  72251810.2  0.000000  1.428571  \n",
       "2  47.192308 -1.014423 -0.813604  63110790.8  0.000000  2.857143  \n",
       "3  47.355769 -0.918981 -0.723611  76687750.8  0.000000  4.285714  \n",
       "4  47.557692 -0.799323 -0.629452  64197068.8  0.000000  5.714286  "
      ]
     },
     "execution_count": 8,
     "metadata": {},
     "output_type": "execute_result"
    }
   ],
   "source": [
    "stock_data.head()"
   ]
  },
  {
   "cell_type": "code",
   "execution_count": 9,
   "metadata": {},
   "outputs": [
    {
     "name": "stdout",
     "output_type": "stream",
     "text": [
      "<class 'pandas.core.frame.DataFrame'>\n",
      "RangeIndex: 1099 entries, 0 to 1098\n",
      "Data columns (total 20 columns):\n",
      "Date             1099 non-null object\n",
      "Symbol           1099 non-null object\n",
      "Open             1099 non-null float64\n",
      "High             1099 non-null float64\n",
      "Low              1099 non-null float64\n",
      "Last             1099 non-null float64\n",
      "ChangePercent    1099 non-null float64\n",
      "Volumn           1099 non-null int64\n",
      "Money            1099 non-null int64\n",
      "Net5D            1099 non-null int64\n",
      "Net13D           1099 non-null float64\n",
      "Net34D           1099 non-null float64\n",
      "SMA5             1099 non-null float64\n",
      "SMA12            1088 non-null float64\n",
      "SMA26            1074 non-null float64\n",
      "MACD             1074 non-null float64\n",
      "MACD5            1074 non-null float64\n",
      "Vol5             1099 non-null float64\n",
      "RSI              1086 non-null float64\n",
      "RSI5             1086 non-null float64\n",
      "dtypes: float64(15), int64(3), object(2)\n",
      "memory usage: 171.8+ KB\n"
     ]
    }
   ],
   "source": [
    "stock_data.info()"
   ]
  },
  {
   "cell_type": "code",
   "execution_count": 23,
   "metadata": {},
   "outputs": [
    {
     "data": {
      "text/html": [
       "<div>\n",
       "<style scoped>\n",
       "    .dataframe tbody tr th:only-of-type {\n",
       "        vertical-align: middle;\n",
       "    }\n",
       "\n",
       "    .dataframe tbody tr th {\n",
       "        vertical-align: top;\n",
       "    }\n",
       "\n",
       "    .dataframe thead th {\n",
       "        text-align: right;\n",
       "    }\n",
       "</style>\n",
       "<table border=\"1\" class=\"dataframe\">\n",
       "  <thead>\n",
       "    <tr style=\"text-align: right;\">\n",
       "      <th></th>\n",
       "      <th>Volumn</th>\n",
       "      <th>SMA5</th>\n",
       "    </tr>\n",
       "  </thead>\n",
       "  <tbody>\n",
       "    <tr>\n",
       "      <th>4</th>\n",
       "      <td>64004612</td>\n",
       "      <td>45.90</td>\n",
       "    </tr>\n",
       "    <tr>\n",
       "      <th>5</th>\n",
       "      <td>64826922</td>\n",
       "      <td>46.35</td>\n",
       "    </tr>\n",
       "    <tr>\n",
       "      <th>6</th>\n",
       "      <td>55743513</td>\n",
       "      <td>46.70</td>\n",
       "    </tr>\n",
       "    <tr>\n",
       "      <th>7</th>\n",
       "      <td>109704180</td>\n",
       "      <td>47.00</td>\n",
       "    </tr>\n",
       "    <tr>\n",
       "      <th>8</th>\n",
       "      <td>26706117</td>\n",
       "      <td>47.35</td>\n",
       "    </tr>\n",
       "    <tr>\n",
       "      <th>9</th>\n",
       "      <td>36834756</td>\n",
       "      <td>47.45</td>\n",
       "    </tr>\n",
       "    <tr>\n",
       "      <th>10</th>\n",
       "      <td>23792095</td>\n",
       "      <td>47.55</td>\n",
       "    </tr>\n",
       "    <tr>\n",
       "      <th>11</th>\n",
       "      <td>42571980</td>\n",
       "      <td>47.65</td>\n",
       "    </tr>\n",
       "    <tr>\n",
       "      <th>12</th>\n",
       "      <td>20088967</td>\n",
       "      <td>47.75</td>\n",
       "    </tr>\n",
       "    <tr>\n",
       "      <th>13</th>\n",
       "      <td>35688017</td>\n",
       "      <td>47.75</td>\n",
       "    </tr>\n",
       "  </tbody>\n",
       "</table>\n",
       "</div>"
      ],
      "text/plain": [
       "       Volumn   SMA5\n",
       "4    64004612  45.90\n",
       "5    64826922  46.35\n",
       "6    55743513  46.70\n",
       "7   109704180  47.00\n",
       "8    26706117  47.35\n",
       "9    36834756  47.45\n",
       "10   23792095  47.55\n",
       "11   42571980  47.65\n",
       "12   20088967  47.75\n",
       "13   35688017  47.75"
      ]
     },
     "execution_count": 23,
     "metadata": {},
     "output_type": "execute_result"
    }
   ],
   "source": [
    "input_feature= stock_data.loc[4:len(stock_data),['Volumn', 'SMA5']]\n",
    "input_feature.head(10)"
   ]
  },
  {
   "cell_type": "code",
   "execution_count": 24,
   "metadata": {},
   "outputs": [
    {
     "data": {
      "text/plain": [
       "(1095, 2)"
      ]
     },
     "execution_count": 24,
     "metadata": {},
     "output_type": "execute_result"
    }
   ],
   "source": [
    "input_feature.shape"
   ]
  },
  {
   "cell_type": "code",
   "execution_count": 25,
   "metadata": {},
   "outputs": [],
   "source": [
    "input_feature = input_feature.values\n",
    "input_data = input_feature"
   ]
  },
  {
   "cell_type": "code",
   "execution_count": 26,
   "metadata": {},
   "outputs": [
    {
     "data": {
      "image/png": "[encoded data removed]",
      "text/plain": [
       "<Figure size 432x288 with 1 Axes>"
      ]
     },
     "metadata": {
      "needs_background": "light"
     },
     "output_type": "display_data"
    }
   ],
   "source": [
    "plt.plot(input_feature[:,0])\n",
    "plt.title(\"Volume of stocks sold\")\n",
    "plt.xlabel(\"Time (latest-> oldest)\")\n",
    "plt.ylabel(\"Volume of stocks traded\")\n",
    "plt.show()"
   ]
  },
  {
   "cell_type": "code",
   "execution_count": 27,
   "metadata": {},
   "outputs": [
    {
     "data": {
      "image/png": "[encoded data removed]",
      "text/plain": [
       "<Figure size 432x288 with 1 Axes>"
      ]
     },
     "metadata": {
      "needs_background": "light"
     },
     "output_type": "display_data"
    }
   ],
   "source": [
    "plt.plot(input_feature[:,1], color='blue')\n",
    "plt.title(\"PTT Stock Prices\")\n",
    "plt.xlabel(\"Time (latest-> oldest)\")\n",
    "plt.ylabel(\"Stock SMA5\")\n",
    "plt.show()"
   ]
  },
  {
   "cell_type": "code",
   "execution_count": 28,
   "metadata": {},
   "outputs": [],
   "source": [
    "# Normalizing the input data using MinMaxScaler so that all the input features are on the scale from 0 to 1\n",
    "\n",
    "from sklearn.preprocessing import MinMaxScaler\n",
    "sc = MinMaxScaler(feature_range=(0,1))\n",
    "input_data[:,:] = sc.fit_transform(input_feature[:,:])"
   ]
  },
  {
   "cell_type": "code",
   "execution_count": 29,
   "metadata": {},
   "outputs": [],
   "source": [
    "# For each day we go back 50 business days in the past and add the volume of the stocks traded an average stock price.\n",
    "\n",
    "lookback = 50\n",
    "\n",
    "test_size = int(.3 * (len(stock_data)-26))\n",
    "X = []\n",
    "y = []\n",
    "for i in range((len(stock_data)-26) - lookback - 1):\n",
    "    t = []\n",
    "    for j in range(0, lookback):\n",
    "        t.append(input_data[[(i + j)], :])\n",
    "    X.append(t)\n",
    "    y.append(input_data[i + lookback, 1])"
   ]
  },
  {
   "cell_type": "code",
   "execution_count": 30,
   "metadata": {},
   "outputs": [
    {
     "name": "stdout",
     "output_type": "stream",
     "text": [
      "(1022, 50, 2)\n",
      "(371, 50, 2)\n"
     ]
    }
   ],
   "source": [
    "X, y = np.array(X), np.array(y)\n",
    "X_test = X[:test_size + lookback]\n",
    "X = X.reshape(X.shape[0], lookback, 2)\n",
    "X_test = X_test.reshape(X_test.shape[0], lookback, 2)\n",
    "print(X.shape)\n",
    "print(X_test.shape)"
   ]
  },
  {
   "cell_type": "code",
   "execution_count": 31,
   "metadata": {},
   "outputs": [
    {
     "name": "stdout",
     "output_type": "stream",
     "text": [
      "_________________________________________________________________\n",
      "Layer (type)                 Output Shape              Param #   \n",
      "=================================================================\n",
      "lstm_4 (LSTM)                (None, 50, 30)            3960      \n",
      "_________________________________________________________________\n",
      "lstm_5 (LSTM)                (None, 50, 30)            7320      \n",
      "_________________________________________________________________\n",
      "lstm_6 (LSTM)                (None, 30)                7320      \n",
      "_________________________________________________________________\n",
      "dense_2 (Dense)              (None, 1)                 31        \n",
      "=================================================================\n",
      "Total params: 18,631\n",
      "Trainable params: 18,631\n",
      "Non-trainable params: 0\n",
      "_________________________________________________________________\n"
     ]
    }
   ],
   "source": [
    "from keras import Sequential\n",
    "from keras.layers import Dense, LSTM\n",
    "\n",
    "model = Sequential()\n",
    "\n",
    "model.add(LSTM(units=30, return_sequences= True, input_shape=(X.shape[1],2)))\n",
    "model.add(LSTM(units=30, return_sequences=True))\n",
    "model.add(LSTM(units=30))\n",
    "model.add(Dense(units=1))\n",
    "\n",
    "model.compile(optimizer='adam', loss='mean_squared_error')\n",
    "\n",
    "model.summary()"
   ]
  },
  {
   "cell_type": "code",
   "execution_count": 32,
   "metadata": {},
   "outputs": [
    {
     "name": "stderr",
     "output_type": "stream",
     "text": [
      "W0831 17:14:12.104109 10308 deprecation.py:323] From C:\\Users\\59010602\\AppData\\Local\\Continuum\\anaconda3\\lib\\site-packages\\tensorflow\\python\\ops\\math_grad.py:1250: add_dispatch_support.<locals>.wrapper (from tensorflow.python.ops.array_ops) is deprecated and will be removed in a future version.\n",
      "Instructions for updating:\n",
      "Use tf.where in 2.0, which has the same broadcast rule as np.where\n",
      "W0831 17:14:14.055075 10308 deprecation_wrapper.py:119] From C:\\Users\\59010602\\AppData\\Local\\Continuum\\anaconda3\\lib\\site-packages\\keras\\backend\\tensorflow_backend.py:986: The name tf.assign_add is deprecated. Please use tf.compat.v1.assign_add instead.\n",
      "\n",
      "W0831 17:14:14.325097 10308 deprecation_wrapper.py:119] From C:\\Users\\59010602\\AppData\\Local\\Continuum\\anaconda3\\lib\\site-packages\\keras\\backend\\tensorflow_backend.py:973: The name tf.assign is deprecated. Please use tf.compat.v1.assign instead.\n",
      "\n"
     ]
    },
    {
     "name": "stdout",
     "output_type": "stream",
     "text": [
      "Epoch 1/20\n",
      "1022/1022 [==============================] - 6s 6ms/step - loss: 0.0615\n",
      "Epoch 2/20\n",
      "1022/1022 [==============================] - 3s 3ms/step - loss: 0.0097\n",
      "Epoch 3/20\n",
      "1022/1022 [==============================] - 3s 3ms/step - loss: 0.0068\n",
      "Epoch 4/20\n",
      "1022/1022 [==============================] - 3s 3ms/step - loss: 0.0055A: 1s\n",
      "Epoch 5/20\n",
      "1022/1022 [==============================] - 3s 3ms/step - loss: 0.0045\n",
      "Epoch 6/20\n",
      "1022/1022 [==============================] - 3s 3ms/step - loss: 0.0038\n",
      "Epoch 7/20\n",
      "1022/1022 [==============================] - 3s 3ms/step - loss: 0.0035\n",
      "Epoch 8/20\n",
      "1022/1022 [==============================] - 3s 3ms/step - loss: 0.0031\n",
      "Epoch 9/20\n",
      "1022/1022 [==============================] - 3s 3ms/step - loss: 0.0029A: 1s -\n",
      "Epoch 10/20\n",
      "1022/1022 [==============================] - 3s 3ms/step - loss: 0.0030\n",
      "Epoch 11/20\n",
      "1022/1022 [==============================] - 3s 3ms/step - loss: 0.0033\n",
      "Epoch 12/20\n",
      "1022/1022 [==============================] - 3s 3ms/step - loss: 0.0026\n",
      "Epoch 13/20\n",
      "1022/1022 [==============================] - 3s 3ms/step - loss: 0.0028\n",
      "Epoch 14/20\n",
      "1022/1022 [==============================] - 3s 3ms/step - loss: 0.0022\n",
      "Epoch 15/20\n",
      "1022/1022 [==============================] - 3s 3ms/step - loss: 0.0024\n",
      "Epoch 16/20\n",
      "1022/1022 [==============================] - 3s 3ms/step - loss: 0.0021\n",
      "Epoch 17/20\n",
      "1022/1022 [==============================] - 3s 3ms/step - loss: 0.0020\n",
      "Epoch 18/20\n",
      "1022/1022 [==============================] - 3s 3ms/step - loss: 0.0018- ETA: 1s -\n",
      "Epoch 19/20\n",
      "1022/1022 [==============================] - 3s 3ms/step - loss: 0.0011\n",
      "Epoch 20/20\n",
      "1022/1022 [==============================] - 3s 3ms/step - loss: 0.0020\n"
     ]
    },
    {
     "data": {
      "text/plain": [
       "<keras.callbacks.History at 0x21f536ab9b0>"
      ]
     },
     "execution_count": 32,
     "metadata": {},
     "output_type": "execute_result"
    }
   ],
   "source": [
    "model.fit(X, y, epochs=20, batch_size=32)"
   ]
  },
  {
   "cell_type": "code",
   "execution_count": 33,
   "metadata": {},
   "outputs": [
    {
     "data": {
      "image/png": "[encoded data removed]",
      "text/plain": [
       "<Figure size 432x288 with 1 Axes>"
      ]
     },
     "metadata": {
      "needs_background": "light"
     },
     "output_type": "display_data"
    }
   ],
   "source": [
    "predicted_value = model.predict(X_test)\n",
    "\n",
    "plt.plot(predicted_value, color='red')\n",
    "plt.plot(input_data[lookback:test_size + (2 * lookback), 1], color='green')\n",
    "plt.title(\"Average price of stocks\")\n",
    "plt.xlabel(\"Time (latest-> oldest)\")\n",
    "plt.ylabel(\"Stock Average Price\")\n",
    "plt.show()"
   ]
  },
  {
   "cell_type": "code",
   "execution_count": null,
   "metadata": {},
   "outputs": [],
   "source": []
  }
 ],
 "metadata": {
  "kernelspec": {
   "display_name": "Python 3",
   "language": "python",
   "name": "python3"
  },
  "language_info": {
   "codemirror_mode": {
    "name": "ipython",
    "version": 3
   },
   "file_extension": ".py",
   "mimetype": "text/x-python",
   "name": "python",
   "nbconvert_exporter": "python",
   "pygments_lexer": "ipython3",
   "version": "3.7.3"
  }
 },
 "nbformat": 4,
 "nbformat_minor": 2
}
