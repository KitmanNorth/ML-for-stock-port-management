{
 "cells": [
  {
   "cell_type": "code",
   "execution_count": 1,
   "metadata": {},
   "outputs": [],
   "source": [
    "import pandas as pd"
   ]
  },
  {
   "cell_type": "code",
   "execution_count": 2,
   "metadata": {},
   "outputs": [],
   "source": [
    "df = pd.read_csv('../ML-for-stock-port-management/stock.csv')\n",
    "# df.isnull().sum()"
   ]
  },
  {
   "cell_type": "code",
   "execution_count": 3,
   "metadata": {},
   "outputs": [],
   "source": [
    "# X = df[['Money', 'Money5', 'SMA5', 'Last', 'MACD', 'MACD10', 'RSI']]\n",
    "# X = df[['Last', 'ChangePercent', 'Money']]\n",
    "# X = df[['Money', 'Money5', 'SMA5', 'Last', 'MACD', 'MACD10', 'RSI', 'ChangePercent']]\n",
    "X = df[['Money', 'Money5', 'MACD', 'MACD10', 'ChangePercent']]\n",
    "y = df['Status']"
   ]
  },
  {
   "cell_type": "code",
   "execution_count": 4,
   "metadata": {},
   "outputs": [
    {
     "name": "stderr",
     "output_type": "stream",
     "text": [
      "C:\\Users\\59010602\\AppData\\Local\\Continuum\\anaconda3\\lib\\site-packages\\sklearn\\ensemble\\forest.py:246: FutureWarning: The default value of n_estimators will change from 10 in version 0.20 to 100 in 0.22.\n",
      "  \"10 in version 0.20 to 100 in 0.22.\", FutureWarning)\n"
     ]
    },
    {
     "name": "stdout",
     "output_type": "stream",
     "text": [
      "Accuracy: 0.9109869188724437\n",
      "Precision: 0.7065308165765\n",
      "Recall: 0.598022673278494\n",
      "Confusion Matrix:\n",
      "[[  682  3270    17]\n",
      " [ 1071 69774   886]\n",
      " [   17  1986  3712]]\n",
      "Accuracy: 0.9134066204016459\n",
      "Precision: 0.7104222459008457\n",
      "Recall: 0.5888790619681338\n",
      "Confusion Matrix:\n",
      "[[  601  3288    12]\n",
      " [  938 70236   799]\n",
      " [    9  2004  3528]]\n",
      "Accuracy: 0.9189215746484063\n",
      "Precision: 0.7139520462236087\n",
      "Recall: 0.6041331316942835\n",
      "Confusion Matrix:\n",
      "[[  591  3184    11]\n",
      " [  921 70620   789]\n",
      " [   11  1685  3603]]\n",
      "Accuracy: 0.9075723146840263\n",
      "Precision: 0.7178591521700678\n",
      "Recall: 0.6067132380051641\n",
      "Confusion Matrix:\n",
      "[[  811  3591    20]\n",
      " [ 1070 69276   926]\n",
      " [   22  1896  3803]]\n",
      "Accuracy: 0.9129153104464779\n",
      "Precision: 0.6960734296506489\n",
      "Recall: 0.5837820057672687\n",
      "Confusion Matrix:\n",
      "[[  535  3252    15]\n",
      " [  964 70269   841]\n",
      " [   15  2003  3521]]\n",
      "Accuracy: 0.9193760363569367\n",
      "Precision: 0.7143976925337315\n",
      "Recall: 0.6055861770693425\n",
      "Confusion Matrix:\n",
      "[[  591  3255    15]\n",
      " [  881 70743   811]\n",
      " [   15  1587  3517]]\n",
      "Accuracy: 0.9022661671682123\n",
      "Precision: 0.7121714021517077\n",
      "Recall: 0.5954372593626798\n",
      "Confusion Matrix:\n",
      "[[  824  3896    14]\n",
      " [ 1140 69026   884]\n",
      " [   24  1999  3608]]\n",
      "Accuracy: 0.9111209374309087\n",
      "Precision: 0.699418400448416\n",
      "Recall: 0.5929726613607088\n",
      "Confusion Matrix:\n",
      "[[  627  3366    21]\n",
      " [ 1082 69981   840]\n",
      " [   20  1907  3570]]\n",
      "Accuracy: 0.9107647333382465\n",
      "Precision: 0.7069300910246884\n",
      "Recall: 0.5923515668086219\n",
      "Confusion Matrix:\n",
      "[[  655  3320    22]\n",
      " [ 1010 69867   867]\n",
      " [   20  2026  3627]]\n",
      "Accuracy: 0.9175326110988282\n",
      "Precision: 0.7116783167799192\n",
      "Recall: 0.5998225206636002\n",
      "Confusion Matrix:\n",
      "[[  611  3235    11]\n",
      " [  976 70636   752]\n",
      " [   14  1726  3453]]\n"
     ]
    },
    {
     "data": {
      "text/plain": [
       "['rf_model_cv4.pkl']"
      ]
     },
     "execution_count": 4,
     "metadata": {},
     "output_type": "execute_result"
    }
   ],
   "source": [
    "# k-fold cross validation\n",
    "from sklearn.model_selection import KFold\n",
    "from sklearn.ensemble import RandomForestClassifier\n",
    "from sklearn.metrics import accuracy_score, precision_score, recall_score, confusion_matrix\n",
    "\n",
    "clf = RandomForestClassifier()\n",
    "X = X.values\n",
    "y = y.values\n",
    "kf = KFold(n_splits=10)\n",
    "accuracy_list = []\n",
    "precision_list = []\n",
    "recall_list = []\n",
    "cm_list = []\n",
    "\n",
    "for train_index, test_index in kf.split(X):\n",
    "    X_train, X_test = X[train_index], X[test_index]\n",
    "    y_train, y_test = y[train_index], y[test_index]\n",
    "    clf.fit(X_train, y_train)\n",
    "    y_pred = clf.predict(X_test)\n",
    "    accuracy = accuracy_score(y_test, y_pred)\n",
    "    precision = precision_score(y_test, y_pred, average='macro')\n",
    "    recall = recall_score(y_test, y_pred,average='macro')\n",
    "    cm = confusion_matrix(y_test, y_pred)\n",
    "    accuracy_list.append(accuracy)\n",
    "    precision_list.append(precision)\n",
    "    recall_list.append(recall)\n",
    "    cm_list.append(cm)\n",
    "    print('Accuracy: ' + str(accuracy))\n",
    "    print('Precision: ' + str(precision))\n",
    "    print('Recall: ' + str(recall))\n",
    "    print('Confusion Matrix:')\n",
    "    print(cm)\n",
    "\n",
    "# save a model using joblib\n",
    "from sklearn.externals import joblib\n",
    "joblib.dump(clf, 'rf_model_cv4.pkl')"
   ]
  },
  {
   "cell_type": "code",
   "execution_count": 5,
   "metadata": {},
   "outputs": [
    {
     "name": "stdout",
     "output_type": "stream",
     "text": [
      "Accuracy: 0.9124863224446133\n",
      "Precision: 0.7089433593460134\n",
      "Recall: 0.5967700295978297\n",
      "Confusion Matrix:\n",
      "[[  6528  33657    158]\n",
      " [ 10053 700428   8395]\n",
      " [   167  18819  35942]]\n"
     ]
    }
   ],
   "source": [
    "print('Accuracy: ' + str(sum(accuracy_list)/10))\n",
    "print('Precision: ' + str(sum(precision_list)/10))\n",
    "print('Recall: ' + str(sum(recall_list)/10))\n",
    "print('Confusion Matrix:')\n",
    "print(str(sum(cm_list)))"
   ]
  },
  {
   "cell_type": "code",
   "execution_count": 13,
   "metadata": {},
   "outputs": [],
   "source": [
    "# # Finding Important Features\n",
    "# features = ['Money', 'Money5', 'SMA5', 'Last', 'MACD', 'MACD10', 'RSI', 'ChangePercent']\n",
    "# feature_imp = pd.Series(clf.feature_importances_,index=features).sort_values(ascending=False)\n",
    "# feature_imp"
   ]
  },
  {
   "cell_type": "code",
   "execution_count": null,
   "metadata": {},
   "outputs": [],
   "source": []
  }
 ],
 "metadata": {
  "kernelspec": {
   "display_name": "Python 3",
   "language": "python",
   "name": "python3"
  },
  "language_info": {
   "codemirror_mode": {
    "name": "ipython",
    "version": 3
   },
   "file_extension": ".py",
   "mimetype": "text/x-python",
   "name": "python",
   "nbconvert_exporter": "python",
   "pygments_lexer": "ipython3",
   "version": "3.7.3"
  }
 },
 "nbformat": 4,
 "nbformat_minor": 2
}
