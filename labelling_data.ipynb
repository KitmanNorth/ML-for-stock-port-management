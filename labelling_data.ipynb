{
 "cells": [
  {
   "cell_type": "code",
   "execution_count": 1,
   "metadata": {},
   "outputs": [],
   "source": [
    "import pandas as pd"
   ]
  },
  {
   "cell_type": "code",
   "execution_count": 3,
   "metadata": {},
   "outputs": [],
   "source": [
    "# rule\n",
    "def label_options(df):\n",
    "    tmpMoney = None\n",
    "    tmpPrice = None\n",
    "    tmpMACD = None\n",
    "    tmpRSIBuy = None\n",
    "    tmpRSISell = None\n",
    "    for i in range(0,len(df)):\n",
    "        if df.loc[i,'Money'] > df.loc[i,'Money5'] :\n",
    "            df.loc[i,'StatusMoney'] = 1\n",
    "            tmpMoney = 1\n",
    "        else :\n",
    "            df.loc[i,'StatusMoney'] = 0\n",
    "            tmpMoney = 0\n",
    "            \n",
    "        if df.loc[i,'Last'] > df.loc[i,'SMA5'] :\n",
    "            df.loc[i,'StatusPrice'] = 1\n",
    "            tmpPrice = 1\n",
    "        elif df.loc[i,'Last'] < df.loc[i,'SMA5'] :\n",
    "            df.loc[i,'StatusPrice'] = -1\n",
    "            tmpPrice = -1\n",
    "        else:\n",
    "            df.loc[i,'StatusPrice'] = 0\n",
    "            df.loc[i,'StatusMoney'] = 0\n",
    "            tmpPrice = 0\n",
    "            tmpMoney = 0\n",
    "\n",
    "        if df.loc[i,'MACD'] > 0:\n",
    "            if df.loc[i,'MACD'] > df.loc[i,'MACD10']:\n",
    "                df.loc[i,'StatusMACD'] = 1\n",
    "                tmpMACD = 1\n",
    "            elif df.loc[i,'MACD'] < df.loc[i,'MACD10']:\n",
    "                df.loc[i,'StatusMACD'] = -1\n",
    "                tmpMACD = -1\n",
    "            else :\n",
    "                df.loc[i,'StatusMACD'] = 0\n",
    "                df.loc[i,'StatusMoney'] = 0\n",
    "                tmpMACD = 0\n",
    "                tmpMoney = 0\n",
    "        else :\n",
    "            df.loc[i,'StatusMACD'] = -1\n",
    "            tmpMACD = -1\n",
    "\n",
    "        if df.loc[i,'RSI'] < 70 :\n",
    "            df.loc[i,'StatusRSIBuy'] = 1\n",
    "            tmpRSIBuy = 1\n",
    "        else :\n",
    "            df.loc[i,'StatusRSIBuy'] = 0\n",
    "            tmpRSIBuy = 0\n",
    "\n",
    "        if df.loc[i,'RSI'] > 30 :\n",
    "            df.loc[i,'StatusRSISell'] = -1\n",
    "            tmpRSISell = -1\n",
    "        else :\n",
    "            df.loc[i,'StatusRSISell'] = 0\n",
    "            tmpRSISell = 0\n",
    "            \n",
    "        if tmpMoney == 1 :\n",
    "            if tmpPrice + tmpMACD + tmpRSIBuy == 3:\n",
    "                df.loc[i,'Status'] = 1\n",
    "            elif tmpPrice + tmpMACD + tmpRSISell == -3:\n",
    "                df.loc[i,'Status'] = -1\n",
    "            else :\n",
    "                df.loc[i,'Status'] = 0\n",
    "        else :\n",
    "            df.loc[i,'Status'] = 0\n"
   ]
  },
  {
   "cell_type": "code",
   "execution_count": null,
   "metadata": {},
   "outputs": [],
   "source": [
    "# last version\n",
    "df = pd.read_csv('stock.csv')\n",
    "label_options(df)\n",
    "df.to_csv('stock.csv', index = None, header=True)"
   ]
  },
  {
   "cell_type": "code",
   "execution_count": 1,
   "metadata": {},
   "outputs": [],
   "source": [
    "# # old version\n",
    "# sc = pd.read_csv('Selected-Company.csv')\n",
    "# for i in range(len(sc)):\n",
    "# #     print(sc.loc[i,'Symbol'])\n",
    "#     try:\n",
    "#         df = pd.read_csv('../ML-for-stock-port-management/Individual-Stock/' + sc.loc[i,'Symbol'] + '.csv')\n",
    "#         label_options(df)\n",
    "#         path = r'../ML-for-stock-port-management/Individual-Stock/' + sc.loc[i,'Symbol'] + '.csv'\n",
    "#         df.to_csv(path, index = None, header=True)\n",
    "#     except:\n",
    "#         print(sc.loc[i,'Symbol'])"
   ]
  }
 ],
 "metadata": {
  "kernelspec": {
   "display_name": "Python 3",
   "language": "python",
   "name": "python3"
  },
  "language_info": {
   "codemirror_mode": {
    "name": "ipython",
    "version": 3
   },
   "file_extension": ".py",
   "mimetype": "text/x-python",
   "name": "python",
   "nbconvert_exporter": "python",
   "pygments_lexer": "ipython3",
   "version": "3.7.3"
  }
 },
 "nbformat": 4,
 "nbformat_minor": 2
}
