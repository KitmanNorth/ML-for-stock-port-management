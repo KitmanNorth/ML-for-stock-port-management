{
 "cells": [
  {
   "cell_type": "code",
   "execution_count": 1,
   "metadata": {},
   "outputs": [],
   "source": [
    "import pandas as pd"
   ]
  },
  {
   "cell_type": "code",
   "execution_count": 2,
   "metadata": {},
   "outputs": [],
   "source": [
    "df = pd.read_csv('../ML-for-stock-port-management/stock.csv')\n",
    "# df.isnull().sum()"
   ]
  },
  {
   "cell_type": "code",
   "execution_count": 3,
   "metadata": {},
   "outputs": [
    {
     "name": "stdout",
     "output_type": "stream",
     "text": [
      "(814147, 8)\n",
      "(814147,)\n"
     ]
    }
   ],
   "source": [
    "# X = df[['Money', 'Money5', 'SMA5', 'Last', 'MACD', 'MACD10', 'RSI']]\n",
    "# X = df[['Last', 'ChangePercent', 'Money']]\n",
    "X = df[['Money', 'Money5', 'SMA5', 'Last', 'MACD', 'MACD10', 'RSI', 'ChangePercent']]\n",
    "# X = df[['Money', 'Money5', 'MACD', 'MACD10', 'ChangePercent']]\n",
    "y = df['Status']\n",
    "\n",
    "print(X.shape)\n",
    "print(y.shape)"
   ]
  },
  {
   "cell_type": "code",
   "execution_count": 4,
   "metadata": {
    "scrolled": true
   },
   "outputs": [
    {
     "name": "stdout",
     "output_type": "stream",
     "text": [
      "Accuracy: 0.9232451022538845\n",
      "Precision: 0.7563732742109095\n",
      "Recall: 0.755796003342322\n",
      "Confusion Matrix:\n",
      "[[ 2395  1453   121]\n",
      " [ 1481 68738  1512]\n",
      " [  120  1562  4033]]\n",
      "Accuracy: 0.9244242461462875\n",
      "Precision: 0.7528872700395232\n",
      "Recall: 0.7558640144922908\n",
      "Confusion Matrix:\n",
      "[[ 2319  1463   119]\n",
      " [ 1485 68983  1505]\n",
      " [  126  1455  3960]]\n",
      "Accuracy: 0.9274212368728121\n",
      "Precision: 0.7561668847768429\n",
      "Recall: 0.7556974990853383\n",
      "Confusion Matrix:\n",
      "[[ 2224  1462   100]\n",
      " [ 1336 69471  1523]\n",
      " [  107  1381  3811]]\n",
      "Accuracy: 0.9197936498188295\n",
      "Precision: 0.7577871530143021\n",
      "Recall: 0.7591129041346375\n",
      "Confusion Matrix:\n",
      "[[ 2671  1624   127]\n",
      " [ 1582 68108  1582]\n",
      " [  118  1497  4106]]\n",
      "Accuracy: 0.9235767364736228\n",
      "Precision: 0.7496534277918497\n",
      "Recall: 0.7485668025772597\n",
      "Confusion Matrix:\n",
      "[[ 2216  1460   126]\n",
      " [ 1384 69075  1615]\n",
      " [   99  1538  3902]]\n",
      "Accuracy: 0.9302831173616656\n",
      "Precision: 0.7638785956593633\n",
      "Recall: 0.769228807901266\n",
      "Confusion Matrix:\n",
      "[[ 2404  1367    90]\n",
      " [ 1468 69630  1337]\n",
      " [   89  1325  3705]]\n",
      "Accuracy: 0.9142909783209482\n",
      "Precision: 0.7479927379717135\n",
      "Recall: 0.7502542611511683\n",
      "Confusion Matrix:\n",
      "[[ 2788  1834   112]\n",
      " [ 1811 67653  1586]\n",
      " [  133  1502  3996]]\n",
      "Accuracy: 0.9245461468543493\n",
      "Precision: 0.7573057677431807\n",
      "Recall: 0.7632646505892161\n",
      "Confusion Matrix:\n",
      "[[ 2480  1439    95]\n",
      " [ 1579 68865  1459]\n",
      " [  102  1469  3926]]\n",
      "Accuracy: 0.9206033360355713\n",
      "Precision: 0.7462606782617122\n",
      "Recall: 0.7535712331595744\n",
      "Confusion Matrix:\n",
      "[[ 2387  1498   112]\n",
      " [ 1651 68546  1547]\n",
      " [  125  1531  4017]]\n",
      "Accuracy: 0.9287960301668018\n",
      "Precision: 0.7613694883591847\n",
      "Recall: 0.7633405185638145\n",
      "Confusion Matrix:\n",
      "[[ 2381  1387    89]\n",
      " [ 1465 69540  1359]\n",
      " [   95  1402  3696]]\n"
     ]
    }
   ],
   "source": [
    "# k-fold cross validation\n",
    "from sklearn.model_selection import KFold\n",
    "from sklearn.tree import DecisionTreeClassifier\n",
    "from sklearn.metrics import accuracy_score, precision_score, recall_score, confusion_matrix\n",
    "\n",
    "clf = DecisionTreeClassifier()\n",
    "X = X.values\n",
    "y = y.values\n",
    "kf = KFold(n_splits=10)\n",
    "accuracy_list = []\n",
    "precision_list = []\n",
    "recall_list = []\n",
    "cm_list = []\n",
    "\n",
    "for train_index, test_index in kf.split(X):\n",
    "    X_train, X_test = X[train_index], X[test_index]\n",
    "    y_train, y_test = y[train_index], y[test_index]\n",
    "    clf.fit(X_train, y_train)\n",
    "    y_pred = clf.predict(X_test)\n",
    "    accuracy = accuracy_score(y_test, y_pred)\n",
    "    precision = precision_score(y_test, y_pred, average='macro')\n",
    "    recall = recall_score(y_test, y_pred,average='macro')\n",
    "    cm = confusion_matrix(y_test, y_pred)\n",
    "    accuracy_list.append(accuracy)\n",
    "    precision_list.append(precision)\n",
    "    recall_list.append(recall)\n",
    "    cm_list.append(cm)\n",
    "    print('Accuracy: ' + str(accuracy))\n",
    "    print('Precision: ' + str(precision))\n",
    "    print('Recall: ' + str(recall))\n",
    "    print('Confusion Matrix:')\n",
    "    print(cm)\n",
    "\n",
    "# save a model using joblib\n",
    "# from sklearn.externals import joblib\n",
    "# joblib.dump(clf, 'dt_model_cv4.pkl')"
   ]
  },
  {
   "cell_type": "code",
   "execution_count": 5,
   "metadata": {},
   "outputs": [
    {
     "name": "stdout",
     "output_type": "stream",
     "text": [
      "Accuracy: 0.9236980580304774\n",
      "Precision: 0.7549675277828582\n",
      "Recall: 0.7574696694996887\n",
      "Confusion Matrix:\n",
      "[[ 24265  14987   1091]\n",
      " [ 15242 688609  15025]\n",
      " [  1114  14662  39152]]\n"
     ]
    }
   ],
   "source": [
    "print('Accuracy: ' + str(sum(accuracy_list)/10))\n",
    "print('Precision: ' + str(sum(precision_list)/10))\n",
    "print('Recall: ' + str(sum(recall_list)/10))\n",
    "print('Confusion Matrix:')\n",
    "print(str(sum(cm_list)))"
   ]
  },
  {
   "cell_type": "code",
   "execution_count": 5,
   "metadata": {},
   "outputs": [
    {
     "name": "stdout",
     "output_type": "stream",
     "text": [
      "Accuracy: 0.9244119633974084\n",
      "Precision: 0.7571125852675477\n",
      "Recall: 0.7542396355800746\n",
      "Confusion Matrix:\n",
      "[[  4704   3045    214]\n",
      " [  2959 137930   2912]\n",
      " [   218   2960   7888]]\n"
     ]
    }
   ],
   "source": [
    "# holdout\n",
    "from sklearn.model_selection import train_test_split\n",
    "from sklearn.tree import DecisionTreeClassifier\n",
    "from sklearn.metrics import accuracy_score, precision_score, recall_score, confusion_matrix\n",
    "\n",
    "X_train, X_test, y_train, y_test = train_test_split(X, y, test_size=0.2,\n",
    "                                                    random_state=42)\n",
    "\n",
    "clf = DecisionTreeClassifier()\n",
    "clf.fit(X_train, y_train)\n",
    "\n",
    "y_pred = clf.predict(X_test)\n",
    "accuracy = accuracy_score(y_test, y_pred)\n",
    "precision = precision_score(y_test, y_pred, average='macro')\n",
    "recall = recall_score(y_test, y_pred,average='macro')\n",
    "cm = confusion_matrix(y_test, y_pred)\n",
    "print('Accuracy: ' + str(accuracy))\n",
    "print('Precision: ' + str(precision))\n",
    "print('Recall: ' + str(recall))\n",
    "print('Confusion Matrix:')\n",
    "print(cm)"
   ]
  },
  {
   "cell_type": "markdown",
   "metadata": {},
   "source": [
    "# Learning Curve"
   ]
  },
  {
   "cell_type": "code",
   "execution_count": 10,
   "metadata": {},
   "outputs": [],
   "source": [
    "import numpy as np\n",
    "import matplotlib.pyplot as plt\n",
    "from sklearn.model_selection import learning_curve\n",
    "\n",
    "def plot_learning_curve(estimator, title, X, y, ylim=None, cv=None,\n",
    "                        n_jobs=None, train_sizes=np.linspace(.1, 1.0, 5)):\n",
    "    \"\"\"\n",
    "    Generate a simple plot of the test and training learning curve.\n",
    "\n",
    "    Parameters\n",
    "    ----------\n",
    "    estimator : object type that implements the \"fit\" and \"predict\" methods\n",
    "        An object of that type which is cloned for each validation.\n",
    "\n",
    "    title : string\n",
    "        Title for the chart.\n",
    "\n",
    "    X : array-like, shape (n_samples, n_features)\n",
    "        Training vector, where n_samples is the number of samples and\n",
    "        n_features is the number of features.\n",
    "\n",
    "    y : array-like, shape (n_samples) or (n_samples, n_features), optional\n",
    "        Target relative to X for classification or regression;\n",
    "        None for unsupervised learning.\n",
    "\n",
    "    ylim : tuple, shape (ymin, ymax), optional\n",
    "        Defines minimum and maximum yvalues plotted.\n",
    "\n",
    "    cv : int, cross-validation generator or an iterable, optional\n",
    "        Determines the cross-validation splitting strategy.\n",
    "        Possible inputs for cv are:\n",
    "          - None, to use the default 3-fold cross-validation,\n",
    "          - integer, to specify the number of folds.\n",
    "          - :term:`CV splitter`,\n",
    "          - An iterable yielding (train, test) splits as arrays of indices.\n",
    "\n",
    "        For integer/None inputs, if ``y`` is binary or multiclass,\n",
    "        :class:`StratifiedKFold` used. If the estimator is not a classifier\n",
    "        or if ``y`` is neither binary nor multiclass, :class:`KFold` is used.\n",
    "\n",
    "        Refer :ref:`User Guide <cross_validation>` for the various\n",
    "        cross-validators that can be used here.\n",
    "\n",
    "    n_jobs : int or None, optional (default=None)\n",
    "        Number of jobs to run in parallel.\n",
    "        ``None`` means 1 unless in a :obj:`joblib.parallel_backend` context.\n",
    "        ``-1`` means using all processors. See :term:`Glossary <n_jobs>`\n",
    "        for more details.\n",
    "\n",
    "    train_sizes : array-like, shape (n_ticks,), dtype float or int\n",
    "        Relative or absolute numbers of training examples that will be used to\n",
    "        generate the learning curve. If the dtype is float, it is regarded as a\n",
    "        fraction of the maximum size of the training set (that is determined\n",
    "        by the selected validation method), i.e. it has to be within (0, 1].\n",
    "        Otherwise it is interpreted as absolute sizes of the training sets.\n",
    "        Note that for classification the number of samples usually have to\n",
    "        be big enough to contain at least one sample from each class.\n",
    "        (default: np.linspace(0.1, 1.0, 5))\n",
    "    \"\"\"\n",
    "    plt.figure()\n",
    "    plt.title(title)\n",
    "    if ylim is not None:\n",
    "        plt.ylim(*ylim)\n",
    "    plt.xlabel(\"Training examples\")\n",
    "    plt.ylabel(\"Score\")\n",
    "    train_sizes, train_scores, test_scores = learning_curve(\n",
    "        estimator, X, y, cv=cv, n_jobs=n_jobs, train_sizes=train_sizes)\n",
    "    train_scores_mean = np.mean(train_scores, axis=1)\n",
    "    train_scores_std = np.std(train_scores, axis=1)\n",
    "    test_scores_mean = np.mean(test_scores, axis=1)\n",
    "    test_scores_std = np.std(test_scores, axis=1)\n",
    "    plt.grid()\n",
    "\n",
    "    plt.fill_between(train_sizes, train_scores_mean - train_scores_std,\n",
    "                     train_scores_mean + train_scores_std, alpha=0.1,\n",
    "                     color=\"r\")\n",
    "    plt.fill_between(train_sizes, test_scores_mean - test_scores_std,\n",
    "                     test_scores_mean + test_scores_std, alpha=0.1, color=\"g\")\n",
    "    plt.plot(train_sizes, train_scores_mean, 'o-', color=\"r\",\n",
    "             label=\"Training score\")\n",
    "    plt.plot(train_sizes, test_scores_mean, 'o-', color=\"g\",\n",
    "             label=\"Cross-validation score\")\n",
    "\n",
    "    plt.legend(loc=\"best\")\n",
    "    return plt"
   ]
  },
  {
   "cell_type": "code",
   "execution_count": 11,
   "metadata": {},
   "outputs": [
    {
     "data": {
      "image/png": "[encoded data removed]",
      "text/plain": [
       "<Figure size 432x288 with 1 Axes>"
      ]
     },
     "metadata": {
      "needs_background": "light"
     },
     "output_type": "display_data"
    }
   ],
   "source": [
    "# Create Decision Tree classifer object\n",
    "clf = DecisionTreeClassifier()\n",
    "title = \"Learning Curves (Decision Tree)\"\n",
    "estimator = clf\n",
    "plot_learning_curve(estimator, title, X, y, ylim=(0.7, 1.01), cv=3, n_jobs=-1)\n",
    "\n",
    "plt.show()"
   ]
  }
 ],
 "metadata": {
  "kernelspec": {
   "display_name": "Python 3",
   "language": "python",
   "name": "python3"
  },
  "language_info": {
   "codemirror_mode": {
    "name": "ipython",
    "version": 3
   },
   "file_extension": ".py",
   "mimetype": "text/x-python",
   "name": "python",
   "nbconvert_exporter": "python",
   "pygments_lexer": "ipython3",
   "version": "3.7.3"
  }
 },
 "nbformat": 4,
 "nbformat_minor": 2
}
